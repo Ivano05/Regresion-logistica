{
 "cells": [
  {
   "cell_type": "code",
   "execution_count": 1,
   "id": "24de6762",
   "metadata": {},
   "outputs": [],
   "source": [
    "#importo librerias\n",
    "\n",
    "import numpy as np # linear algebra\n",
    "import pandas as pd # data processing, CSV file I/O (e.g. pd.read_csv)\n",
    "import matplotlib.pyplot as plt # data visualization\n",
    "import seaborn as sns # statistical data visualization\n",
    "\n",
    "\n",
    "# Preprocesado, modelado y métricas:\n",
    "from sklearn.preprocessing import MinMaxScaler\n",
    "from sklearn.model_selection import train_test_split \n",
    "from sklearn.linear_model import LogisticRegression\n",
    "from sklearn.metrics import accuracy_score\n",
    "from sklearn.metrics import confusion_matrix\n",
    "from sklearn.metrics import classification_report\n",
    "%matplotlib inline\n",
    "\n",
    "\n",
    "        "
   ]
  },
  {
   "cell_type": "code",
   "execution_count": 2,
   "id": "d1601d39",
   "metadata": {},
   "outputs": [
    {
     "data": {
      "text/plain": [
       "array([0.07750218, 0.39837709, 0.92383015, 0.8726103 , 0.99336075,\n",
       "       0.07790608, 0.03143689, 0.95918235, 0.69650797, 0.91271337,\n",
       "       1.61009628, 1.87682843, 1.77879432, 1.8968616 , 1.62268996,\n",
       "       1.95835926, 1.81197725, 1.92554836, 1.5707791 , 1.73778433])"
      ]
     },
     "execution_count": 2,
     "metadata": {},
     "output_type": "execute_result"
    }
   ],
   "source": [
    "#Genero una matriz uniforme de 20 datos pero lo hago en dos partes para poder seàrar mejor los datos.\n",
    "XU_train1=np.random.uniform(0,1,10)\n",
    "XU_train2=np.random.uniform(1.5,2,10)\n",
    "XU=np.append(XU_train1, XU_train2, axis=0)\n",
    "XU\n"
   ]
  },
  {
   "cell_type": "code",
   "execution_count": 3,
   "id": "58239554",
   "metadata": {},
   "outputs": [
    {
     "data": {
      "text/plain": [
       "array([-0.06986492, -0.59078734,  0.14601851,  2.72299382, -0.088016  ,\n",
       "        2.28502678,  0.85046831, -0.11160227,  0.37393894,  2.38978779,\n",
       "        3.23598372,  2.48403188, -1.49864724, -0.18288735,  2.71783196,\n",
       "        0.57462425,  2.65084519,  1.93635716,  0.30902668,  1.17204077])"
      ]
     },
     "execution_count": 3,
     "metadata": {},
     "output_type": "execute_result"
    }
   ],
   "source": [
    "#Genero una matriz normal de 20 datos pero lo hago en dos partes para poder seàrar mejor los datos.\n",
    "XN_train1=np.random.normal(0,1,10)\n",
    "XN_train2 = np.random.normal(1.5,2,10)\n",
    "XN=np.concatenate((XN_train1,XN_train2), axis=0)\n",
    "XN"
   ]
  },
  {
   "cell_type": "code",
   "execution_count": 4,
   "id": "97777350",
   "metadata": {},
   "outputs": [
    {
     "data": {
      "text/plain": [
       "array([1.48219314e+00, 7.24228079e-01, 3.19201264e+00, 1.59015070e+00,\n",
       "       6.42690765e-01, 1.32525297e+00, 8.63918584e-01, 9.33228529e-01,\n",
       "       6.35551014e-01, 1.51090334e+00, 1.73441962e-01, 2.26436589e+07,\n",
       "       1.49082763e+11, 1.15968225e+00, 7.00644933e+07, 6.23331648e+06,\n",
       "       2.69563209e-04, 5.70937379e+11, 2.02524126e-03, 5.72306499e+01])"
      ]
     },
     "execution_count": 4,
     "metadata": {},
     "output_type": "execute_result"
    }
   ],
   "source": [
    "#Genero una matriz sesgada de 20 datos pero lo hago en dos partes para poder seàrar mejor los datos.\n",
    "\n",
    "XS_train1=np.random.lognormal(0,1,10)\n",
    "XS_train2 = np.random.lognormal(10,15,10)\n",
    "XS=np.concatenate((XS_train1, XS_train2), axis=0)\n",
    "XS\n"
   ]
  },
  {
   "cell_type": "code",
   "execution_count": 5,
   "id": "e054800b",
   "metadata": {},
   "outputs": [
    {
     "data": {
      "text/plain": [
       "array([[ 7.75021779e-02,  3.98377085e-01,  9.23830151e-01,\n",
       "         8.72610301e-01,  9.93360750e-01,  7.79060809e-02,\n",
       "         3.14368853e-02,  9.59182354e-01,  6.96507971e-01,\n",
       "         9.12713371e-01,  1.61009628e+00,  1.87682843e+00,\n",
       "         1.77879432e+00,  1.89686160e+00,  1.62268996e+00,\n",
       "         1.95835926e+00,  1.81197725e+00,  1.92554836e+00,\n",
       "         1.57077910e+00,  1.73778433e+00],\n",
       "       [-6.98649249e-02, -5.90787335e-01,  1.46018506e-01,\n",
       "         2.72299382e+00, -8.80160043e-02,  2.28502678e+00,\n",
       "         8.50468313e-01, -1.11602266e-01,  3.73938936e-01,\n",
       "         2.38978779e+00,  3.23598372e+00,  2.48403188e+00,\n",
       "        -1.49864724e+00, -1.82887349e-01,  2.71783196e+00,\n",
       "         5.74624247e-01,  2.65084519e+00,  1.93635716e+00,\n",
       "         3.09026677e-01,  1.17204077e+00],\n",
       "       [ 1.48219314e+00,  7.24228079e-01,  3.19201264e+00,\n",
       "         1.59015070e+00,  6.42690765e-01,  1.32525297e+00,\n",
       "         8.63918584e-01,  9.33228529e-01,  6.35551014e-01,\n",
       "         1.51090334e+00,  1.73441962e-01,  2.26436589e+07,\n",
       "         1.49082763e+11,  1.15968225e+00,  7.00644933e+07,\n",
       "         6.23331648e+06,  2.69563209e-04,  5.70937379e+11,\n",
       "         2.02524126e-03,  5.72306499e+01]])"
      ]
     },
     "execution_count": 5,
     "metadata": {},
     "output_type": "execute_result"
    }
   ],
   "source": [
    "#hago una matriz contres columnas donde una columna es la matriz uniforme XS otra la matriz normal XN y otra la matriz sesgada XS\n",
    "\n",
    "X=np.append([XU],[XN],axis=0)\n",
    "X=np.append(X,[XS], axis=0)\n",
    "X\n",
    "\n",
    "\n",
    "#X= np.append(XU , XN , axis=1)\n",
    "#X= np.append(X, XS , axis=1)\n",
    "#X\n",
    "\n",
    "\n",
    "\n",
    "\n",
    "#X= np.concatenate(([XU],[XN]),axis=1)\n",
    "#X= np.concatenate((X,[XS]),axis=1)\n",
    "#X"
   ]
  },
  {
   "cell_type": "code",
   "execution_count": 6,
   "id": "2d5a1666",
   "metadata": {},
   "outputs": [
    {
     "data": {
      "text/plain": [
       "(3, 20)"
      ]
     },
     "execution_count": 6,
     "metadata": {},
     "output_type": "execute_result"
    }
   ],
   "source": [
    "X.shape"
   ]
  },
  {
   "cell_type": "code",
   "execution_count": 7,
   "id": "87416b41",
   "metadata": {
    "scrolled": true
   },
   "outputs": [],
   "source": [
    "#X_train.transpose().shape"
   ]
  },
  {
   "cell_type": "code",
   "execution_count": 8,
   "id": "c374b650",
   "metadata": {},
   "outputs": [],
   "source": [
    "#print(X_train.transpose())\n"
   ]
  },
  {
   "cell_type": "code",
   "execution_count": 9,
   "id": "8e297d94",
   "metadata": {
    "scrolled": true
   },
   "outputs": [],
   "source": [
    "#df=pd.DataFrame(X_train.transpose())\n",
    "#df"
   ]
  },
  {
   "cell_type": "code",
   "execution_count": 10,
   "id": "f20c9336",
   "metadata": {},
   "outputs": [
    {
     "data": {
      "text/html": [
       "<div>\n",
       "<style scoped>\n",
       "    .dataframe tbody tr th:only-of-type {\n",
       "        vertical-align: middle;\n",
       "    }\n",
       "\n",
       "    .dataframe tbody tr th {\n",
       "        vertical-align: top;\n",
       "    }\n",
       "\n",
       "    .dataframe thead th {\n",
       "        text-align: right;\n",
       "    }\n",
       "</style>\n",
       "<table border=\"1\" class=\"dataframe\">\n",
       "  <thead>\n",
       "    <tr style=\"text-align: right;\">\n",
       "      <th></th>\n",
       "      <th>0</th>\n",
       "      <th>1</th>\n",
       "      <th>2</th>\n",
       "    </tr>\n",
       "  </thead>\n",
       "  <tbody>\n",
       "    <tr>\n",
       "      <th>0</th>\n",
       "      <td>-0.069865</td>\n",
       "      <td>0.077502</td>\n",
       "      <td>1.482193e+00</td>\n",
       "    </tr>\n",
       "    <tr>\n",
       "      <th>1</th>\n",
       "      <td>-0.590787</td>\n",
       "      <td>0.398377</td>\n",
       "      <td>7.242281e-01</td>\n",
       "    </tr>\n",
       "    <tr>\n",
       "      <th>2</th>\n",
       "      <td>0.146019</td>\n",
       "      <td>0.923830</td>\n",
       "      <td>3.192013e+00</td>\n",
       "    </tr>\n",
       "    <tr>\n",
       "      <th>3</th>\n",
       "      <td>2.722994</td>\n",
       "      <td>0.872610</td>\n",
       "      <td>1.590151e+00</td>\n",
       "    </tr>\n",
       "    <tr>\n",
       "      <th>4</th>\n",
       "      <td>-0.088016</td>\n",
       "      <td>0.993361</td>\n",
       "      <td>6.426908e-01</td>\n",
       "    </tr>\n",
       "    <tr>\n",
       "      <th>5</th>\n",
       "      <td>2.285027</td>\n",
       "      <td>0.077906</td>\n",
       "      <td>1.325253e+00</td>\n",
       "    </tr>\n",
       "    <tr>\n",
       "      <th>6</th>\n",
       "      <td>0.850468</td>\n",
       "      <td>0.031437</td>\n",
       "      <td>8.639186e-01</td>\n",
       "    </tr>\n",
       "    <tr>\n",
       "      <th>7</th>\n",
       "      <td>-0.111602</td>\n",
       "      <td>0.959182</td>\n",
       "      <td>9.332285e-01</td>\n",
       "    </tr>\n",
       "    <tr>\n",
       "      <th>8</th>\n",
       "      <td>0.373939</td>\n",
       "      <td>0.696508</td>\n",
       "      <td>6.355510e-01</td>\n",
       "    </tr>\n",
       "    <tr>\n",
       "      <th>9</th>\n",
       "      <td>2.389788</td>\n",
       "      <td>0.912713</td>\n",
       "      <td>1.510903e+00</td>\n",
       "    </tr>\n",
       "    <tr>\n",
       "      <th>10</th>\n",
       "      <td>3.235984</td>\n",
       "      <td>1.610096</td>\n",
       "      <td>1.734420e-01</td>\n",
       "    </tr>\n",
       "    <tr>\n",
       "      <th>11</th>\n",
       "      <td>2.484032</td>\n",
       "      <td>1.876828</td>\n",
       "      <td>2.264366e+07</td>\n",
       "    </tr>\n",
       "    <tr>\n",
       "      <th>12</th>\n",
       "      <td>-1.498647</td>\n",
       "      <td>1.778794</td>\n",
       "      <td>1.490828e+11</td>\n",
       "    </tr>\n",
       "    <tr>\n",
       "      <th>13</th>\n",
       "      <td>-0.182887</td>\n",
       "      <td>1.896862</td>\n",
       "      <td>1.159682e+00</td>\n",
       "    </tr>\n",
       "    <tr>\n",
       "      <th>14</th>\n",
       "      <td>2.717832</td>\n",
       "      <td>1.622690</td>\n",
       "      <td>7.006449e+07</td>\n",
       "    </tr>\n",
       "    <tr>\n",
       "      <th>15</th>\n",
       "      <td>0.574624</td>\n",
       "      <td>1.958359</td>\n",
       "      <td>6.233316e+06</td>\n",
       "    </tr>\n",
       "    <tr>\n",
       "      <th>16</th>\n",
       "      <td>2.650845</td>\n",
       "      <td>1.811977</td>\n",
       "      <td>2.695632e-04</td>\n",
       "    </tr>\n",
       "    <tr>\n",
       "      <th>17</th>\n",
       "      <td>1.936357</td>\n",
       "      <td>1.925548</td>\n",
       "      <td>5.709374e+11</td>\n",
       "    </tr>\n",
       "    <tr>\n",
       "      <th>18</th>\n",
       "      <td>0.309027</td>\n",
       "      <td>1.570779</td>\n",
       "      <td>2.025241e-03</td>\n",
       "    </tr>\n",
       "    <tr>\n",
       "      <th>19</th>\n",
       "      <td>1.172041</td>\n",
       "      <td>1.737784</td>\n",
       "      <td>5.723065e+01</td>\n",
       "    </tr>\n",
       "  </tbody>\n",
       "</table>\n",
       "</div>"
      ],
      "text/plain": [
       "           0         1             2\n",
       "0  -0.069865  0.077502  1.482193e+00\n",
       "1  -0.590787  0.398377  7.242281e-01\n",
       "2   0.146019  0.923830  3.192013e+00\n",
       "3   2.722994  0.872610  1.590151e+00\n",
       "4  -0.088016  0.993361  6.426908e-01\n",
       "5   2.285027  0.077906  1.325253e+00\n",
       "6   0.850468  0.031437  8.639186e-01\n",
       "7  -0.111602  0.959182  9.332285e-01\n",
       "8   0.373939  0.696508  6.355510e-01\n",
       "9   2.389788  0.912713  1.510903e+00\n",
       "10  3.235984  1.610096  1.734420e-01\n",
       "11  2.484032  1.876828  2.264366e+07\n",
       "12 -1.498647  1.778794  1.490828e+11\n",
       "13 -0.182887  1.896862  1.159682e+00\n",
       "14  2.717832  1.622690  7.006449e+07\n",
       "15  0.574624  1.958359  6.233316e+06\n",
       "16  2.650845  1.811977  2.695632e-04\n",
       "17  1.936357  1.925548  5.709374e+11\n",
       "18  0.309027  1.570779  2.025241e-03\n",
       "19  1.172041  1.737784  5.723065e+01"
      ]
     },
     "execution_count": 10,
     "metadata": {},
     "output_type": "execute_result"
    }
   ],
   "source": [
    "df = pd.DataFrame(list(zip(XN,XU,XS)))\n",
    "df"
   ]
  },
  {
   "cell_type": "code",
   "execution_count": 11,
   "id": "c95ff12e",
   "metadata": {},
   "outputs": [
    {
     "data": {
      "text/plain": [
       "array([[-6.98649249e-02,  7.75021779e-02,  1.48219314e+00],\n",
       "       [-5.90787335e-01,  3.98377085e-01,  7.24228079e-01],\n",
       "       [ 1.46018506e-01,  9.23830151e-01,  3.19201264e+00],\n",
       "       [ 2.72299382e+00,  8.72610301e-01,  1.59015070e+00],\n",
       "       [-8.80160043e-02,  9.93360750e-01,  6.42690765e-01],\n",
       "       [ 2.28502678e+00,  7.79060809e-02,  1.32525297e+00],\n",
       "       [ 8.50468313e-01,  3.14368853e-02,  8.63918584e-01],\n",
       "       [-1.11602266e-01,  9.59182354e-01,  9.33228529e-01],\n",
       "       [ 3.73938936e-01,  6.96507971e-01,  6.35551014e-01],\n",
       "       [ 2.38978779e+00,  9.12713371e-01,  1.51090334e+00],\n",
       "       [ 3.23598372e+00,  1.61009628e+00,  1.73441962e-01],\n",
       "       [ 2.48403188e+00,  1.87682843e+00,  2.26436589e+07],\n",
       "       [-1.49864724e+00,  1.77879432e+00,  1.49082763e+11],\n",
       "       [-1.82887349e-01,  1.89686160e+00,  1.15968225e+00],\n",
       "       [ 2.71783196e+00,  1.62268996e+00,  7.00644933e+07],\n",
       "       [ 5.74624247e-01,  1.95835926e+00,  6.23331648e+06],\n",
       "       [ 2.65084519e+00,  1.81197725e+00,  2.69563209e-04],\n",
       "       [ 1.93635716e+00,  1.92554836e+00,  5.70937379e+11],\n",
       "       [ 3.09026677e-01,  1.57077910e+00,  2.02524126e-03],\n",
       "       [ 1.17204077e+00,  1.73778433e+00,  5.72306499e+01]])"
      ]
     },
     "execution_count": 11,
     "metadata": {},
     "output_type": "execute_result"
    }
   ],
   "source": [
    "X_np = df.to_numpy()\n",
    "X_np"
   ]
  },
  {
   "cell_type": "code",
   "execution_count": 12,
   "id": "a85e43ed",
   "metadata": {},
   "outputs": [
    {
     "data": {
      "text/plain": [
       "array([0, 0, 0, 0, 0, 0, 0, 0, 0, 0, 1, 1, 1, 1, 1, 1, 1, 1, 1, 1])"
      ]
     },
     "execution_count": 12,
     "metadata": {},
     "output_type": "execute_result"
    }
   ],
   "source": [
    "y_np =np.array([0,0,0,0,0,0,0,0,0,0,1,1,1,1,1,1,1,1,1,1])\n",
    "y_np"
   ]
  },
  {
   "cell_type": "code",
   "execution_count": 13,
   "id": "8118aa25",
   "metadata": {},
   "outputs": [
    {
     "ename": "NameError",
     "evalue": "name 'y' is not defined",
     "output_type": "error",
     "traceback": [
      "\u001b[1;31m---------------------------------------------------------------------------\u001b[0m",
      "\u001b[1;31mNameError\u001b[0m                                 Traceback (most recent call last)",
      "\u001b[1;32m~\\AppData\\Local\\Temp/ipykernel_2068/3329787793.py\u001b[0m in \u001b[0;36m<module>\u001b[1;34m\u001b[0m\n\u001b[1;32m----> 1\u001b[1;33m \u001b[0my\u001b[0m\u001b[1;33m.\u001b[0m\u001b[0mshape\u001b[0m\u001b[1;33m\u001b[0m\u001b[1;33m\u001b[0m\u001b[0m\n\u001b[0m",
      "\u001b[1;31mNameError\u001b[0m: name 'y' is not defined"
     ]
    }
   ],
   "source": [
    "y.shape"
   ]
  },
  {
   "cell_type": "code",
   "execution_count": 14,
   "id": "6f3540d1",
   "metadata": {},
   "outputs": [
    {
     "name": "stdout",
     "output_type": "stream",
     "text": [
      "La media de la distribucion normal es 1.0653585316588021\n"
     ]
    }
   ],
   "source": [
    "print(\"La media de la distribucion normal es\", np.mean(XN))"
   ]
  },
  {
   "cell_type": "code",
   "execution_count": 15,
   "id": "484a0926",
   "metadata": {
    "scrolled": true
   },
   "outputs": [
    {
     "name": "stdout",
     "output_type": "stream",
     "text": [
      "La varianza de la distribucion normal es 1.7894874716264204\n"
     ]
    }
   ],
   "source": [
    "print(\"La varianza de la distribucion normal es\", np.var(XN))"
   ]
  },
  {
   "cell_type": "code",
   "execution_count": 16,
   "id": "af6796d9",
   "metadata": {},
   "outputs": [
    {
     "data": {
      "text/plain": [
       "Text(0, 0.5, 'Dist. Sesgada')"
      ]
     },
     "execution_count": 16,
     "metadata": {},
     "output_type": "execute_result"
    },
    {
     "data": {
      "image/png": "[encoded data removed]",
      "text/plain": [
       "<Figure size 720x1080 with 3 Axes>"
      ]
     },
     "metadata": {
      "needs_background": "light"
     },
     "output_type": "display_data"
    }
   ],
   "source": [
    "plt.figure(figsize = (10,15))\n",
    "\n",
    "plt.subplot(2,2,1)\n",
    "fig =df[0].hist(bins=30)\n",
    "fig.set_xlabel('Dist. Normal')\n",
    "fig.set_ylabel('Dist. Normal')\n",
    "\n",
    "plt.subplot(2,2,2)\n",
    "fig =df[1].hist(bins=30)\n",
    "fig.set_xlabel('Dist. Uniforme')\n",
    "fig.set_ylabel('Dist. Uniforme')\n",
    "\n",
    "plt.subplot(2,2,3)\n",
    "fig =df[2].hist(bins=30)\n",
    "fig.set_xlabel('Dist. Sesgada')\n",
    "fig.set_ylabel('Dist. Sesgada')"
   ]
  },
  {
   "cell_type": "code",
   "execution_count": 17,
   "id": "7be78bcf",
   "metadata": {},
   "outputs": [],
   "source": [
    "# Separo en grupos de entrenamiento y testeo. Asigno un tamaño de 80% para entrenamiento y 20% para \n",
    "# testeo:\n",
    "from sklearn.model_selection import train_test_split \n",
    "\n",
    "X_train, X_test, y_train, y_test = train_test_split(X_np,y_np,test_size=0.2)"
   ]
  },
  {
   "cell_type": "code",
   "execution_count": 18,
   "id": "585f556b",
   "metadata": {},
   "outputs": [
    {
     "name": "stdout",
     "output_type": "stream",
     "text": [
      "X_train: 16\n",
      "X_test:   4\n",
      "y_train: 16\n",
      "y_test:   4\n"
     ]
    }
   ],
   "source": [
    "print('X_train:',len(X_train))\n",
    "print('X_test:  ',len(X_test))\n",
    "print('y_train:',len(y_train))\n",
    "print('y_test:  ',len(y_test))"
   ]
  },
  {
   "cell_type": "code",
   "execution_count": 22,
   "id": "6222e555",
   "metadata": {},
   "outputs": [],
   "source": [
    "model = LogisticRegression()"
   ]
  },
  {
   "cell_type": "code",
   "execution_count": 23,
   "id": "cb91f8fd",
   "metadata": {},
   "outputs": [
    {
     "data": {
      "text/plain": [
       "LogisticRegression()"
      ]
     },
     "execution_count": 23,
     "metadata": {},
     "output_type": "execute_result"
    }
   ],
   "source": [
    "model.fit(X_train, y_train)"
   ]
  },
  {
   "cell_type": "code",
   "execution_count": 24,
   "id": "134af8c1",
   "metadata": {},
   "outputs": [
    {
     "data": {
      "text/plain": [
       "array([0, 1, 0, 0])"
      ]
     },
     "execution_count": 24,
     "metadata": {},
     "output_type": "execute_result"
    }
   ],
   "source": [
    "y_predicha = model.predict(X_test)\n",
    "y_predicha"
   ]
  },
  {
   "cell_type": "code",
   "execution_count": 25,
   "id": "cc41525a",
   "metadata": {},
   "outputs": [
    {
     "name": "stdout",
     "output_type": "stream",
     "text": [
      "Matriz de Confusión:\n",
      "[[2 0]\n",
      " [1 1]]\n"
     ]
    }
   ],
   "source": [
    "#Matriz de confusion\n",
    "from sklearn.metrics import confusion_matrix\n",
    "matriz = confusion_matrix(y_test, y_predicha)\n",
    "print('Matriz de Confusión:')\n",
    "print(matriz)"
   ]
  },
  {
   "cell_type": "code",
   "execution_count": 26,
   "id": "d987601e",
   "metadata": {},
   "outputs": [
    {
     "data": {
      "text/plain": [
       "<AxesSubplot:>"
      ]
     },
     "execution_count": 26,
     "metadata": {},
     "output_type": "execute_result"
    },
    {
     "data": {
      "image/png": "[encoded data removed]",
      "text/plain": [
       "<Figure size 432x288 with 2 Axes>"
      ]
     },
     "metadata": {
      "needs_background": "light"
     },
     "output_type": "display_data"
    }
   ],
   "source": [
    "matrix = pd.DataFrame(data=matriz, columns=['Actual Positive:1', 'Actual Negative:0'], \n",
    "                                 index=['Predict Positive:1', 'Predict Negative:0'])\n",
    "sns.heatmap(matrix, annot=True, fmt='d', cmap='YlGnBu')"
   ]
  },
  {
   "cell_type": "markdown",
   "id": "9558ad1e",
   "metadata": {},
   "source": [
    "El grafico anterior indica lo siguiente:\n",
    "- En el espacio superior izquierdo: Aquí estan los datos que siendo 1 fueron clasificados como 1\n",
    "- En el espacio superior derecho: Los datos que siendo 0 fueron clasificados como 1 (Error de tipo I)\n",
    "- En el espacio inferior izquierdo: Los datos que siendo 0 fueron clasificados como 1 (Error de tipo II)\n",
    "- En el espacio inferior derecho: Los datos que siendo 0 fueron clasificados como 0 \n"
   ]
  },
  {
   "cell_type": "code",
   "execution_count": null,
   "id": "28dffc02",
   "metadata": {},
   "outputs": [],
   "source": []
  }
 ],
 "metadata": {
  "kernelspec": {
   "display_name": "Python 3 (ipykernel)",
   "language": "python",
   "name": "python3"
  },
  "language_info": {
   "codemirror_mode": {
    "name": "ipython",
    "version": 3
   },
   "file_extension": ".py",
   "mimetype": "text/x-python",
   "name": "python",
   "nbconvert_exporter": "python",
   "pygments_lexer": "ipython3",
   "version": "3.9.7"
  }
 },
 "nbformat": 4,
 "nbformat_minor": 5
}
